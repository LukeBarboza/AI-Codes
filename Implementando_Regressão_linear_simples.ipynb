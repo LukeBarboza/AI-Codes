{
  "nbformat": 4,
  "nbformat_minor": 0,
  "metadata": {
    "colab": {
      "provenance": [],
      "authorship_tag": "ABX9TyPFPJfUs6ffTpf0prajGGUU",
      "include_colab_link": true
    },
    "kernelspec": {
      "name": "python3",
      "display_name": "Python 3"
    },
    "language_info": {
      "name": "python"
    }
  },
  "cells": [
    {
      "cell_type": "markdown",
      "metadata": {
        "id": "view-in-github",
        "colab_type": "text"
      },
      "source": [
        "<a href=\"https://colab.research.google.com/github/LukeBarboza/AI-Codes/blob/Regress%C3%A3o-Linear-Simples/Implementando_Regress%C3%A3o_linear_simples.ipynb\" target=\"_parent\"><img src=\"https://colab.research.google.com/assets/colab-badge.svg\" alt=\"Open In Colab\"/></a>"
      ]
    },
    {
      "cell_type": "markdown",
      "source": [
        "# **Códigos para Regressão Linear Simples**\n",
        "\n",
        "Primeiro estamos importando as Libs\n",
        "E definindo os valores X e os Rotulos y"
      ],
      "metadata": {
        "id": "r-r35W0GKdSl"
      }
    },
    {
      "cell_type": "code",
      "execution_count": null,
      "metadata": {
        "id": "A76eLS-6KSpb"
      },
      "outputs": [],
      "source": [
        "# importando as libs\n",
        "import numpy as np\n",
        "import pandas as pd\n",
        "from sklearn.linear_model import LinearRegression\n",
        "import statsmodels.api as sm\n",
        "# fonte: # fonte: http://www.portalaction.com.br/analise-de-regressao/12-estimacao-dos-parametros-do-modelo\n",
        "# criando variáveis que serão usadas daqui para frente\n",
        "# variável preditora\n",
        "X = np.array([ 220, 220, 220, 220, 220, 225, 225, 225, 225, 225, 230, 230, 230, 230, 230, 235, 235, 235, 235, 235 ])\n",
        "# variável alvo\n",
        "y = np.array([ 137, 137, 137, 136, 135, 135, 133, 132, 133, 133, 128, 124, 126, 129, 126, 122, 122, 122, 119, 122 ])"
      ]
    },
    {
      "cell_type": "markdown",
      "source": [],
      "metadata": {
        "id": "l4FJvHVDLSc9"
      }
    },
    {
      "cell_type": "code",
      "source": [
        "# é necessário adicionar uma constante a matriz X\n",
        "X_sm = sm.add_constant(X)\n",
        "# OLS vem de Ordinary Least Squares e o método fit irá treinar o modelo\n",
        "results = sm.OLS(y, X_sm).fit()\n",
        "# mostrando as estatísticas do modelo\n",
        "results.summary()\n",
        "# mostrando as previsões para o mesmo conjunto passado\n",
        "\n",
        "results.predict(X_sm)"
      ],
      "metadata": {
        "colab": {
          "base_uri": "https://localhost:8080/"
        },
        "id": "viuvwmp5LR3A",
        "outputId": "bedf685c-4a34-4323-c160-8ff7e676893c"
      },
      "execution_count": null,
      "outputs": [
        {
          "output_type": "execute_result",
          "data": {
            "text/plain": [
              "array([137.14, 137.14, 137.14, 137.14, 137.14, 131.98, 131.98, 131.98,\n",
              "       131.98, 131.98, 126.82, 126.82, 126.82, 126.82, 126.82, 121.66,\n",
              "       121.66, 121.66, 121.66, 121.66])"
            ]
          },
          "metadata": {},
          "execution_count": 2
        }
      ]
    },
    {
      "cell_type": "code",
      "source": [
        "X_test = np.array([240, 240, 240, 240, 240 ])\n",
        "df_test = pd.DataFrame()\n",
        "\n",
        "df_test['x'] = X_test\n",
        "x_v_test = df_test[['x']]  # DataFrame com apenas a coluna 'x'\n",
        "\n",
        "\n",
        "# Criando o DataFrame com x e y\n",
        "df = pd.DataFrame()\n",
        "df['x'] = X\n",
        "df['y'] = y\n",
        "\n",
        "# Criando DataFrames separados para x e y\n",
        "x_v = df[['x']]  # DataFrame com apenas a coluna 'x'\n",
        "y_v = df[['y']]  # DataFrame com apenas a coluna 'y'\n",
        "\n",
        "# Criando e treinando o modelo de regressão linear\n",
        "model = LinearRegression()\n",
        "model.fit(x_v, y_v)  # Treinando o modelo com x_v e y_v\n",
        "\n",
        "# Visualizando os coeficientes encontrados\n",
        "print(\"Coeficientes:\", model.coef_)\n",
        "\n",
        "# Calculando o R²\n",
        "print(\"R²:\", model.score(x_v, y_v))\n",
        "\n",
        "# Fazendo previsões com os mesmos valores\n",
        "predicoes = model.predict(x_v_test)\n",
        "print(\"Previsões:\", predicoes)"
      ],
      "metadata": {
        "colab": {
          "base_uri": "https://localhost:8080/"
        },
        "id": "E7xguhJXO4um",
        "outputId": "76e568e5-68d4-4adf-babe-421583504b99"
      },
      "execution_count": null,
      "outputs": [
        {
          "output_type": "stream",
          "name": "stdout",
          "text": [
            "Coeficientes: [[-1.032]]\n",
            "R²: 0.9417657045840407\n",
            "Previsões: [[116.5]\n",
            " [116.5]\n",
            " [116.5]\n",
            " [116.5]\n",
            " [116.5]]\n"
          ]
        }
      ]
    }
  ]
}